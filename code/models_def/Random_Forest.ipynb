{
 "cells": [
  {
   "cell_type": "code",
   "execution_count": 1,
   "metadata": {},
   "outputs": [],
   "source": [
    "import pandas as pd\n",
    "from sklearn.model_selection import train_test_split\n",
    "from sklearn.ensemble import RandomForestClassifier\n",
    "from sklearn.metrics import accuracy_score, classification_report, confusion_matrix\n",
    "import matplotlib.pyplot as plt\n",
    "import joblib\n",
    "from scipy.stats import randint, uniform\n",
    "from sklearn.model_selection import RandomizedSearchCV"
   ]
  },
  {
   "cell_type": "code",
   "execution_count": 2,
   "metadata": {},
   "outputs": [],
   "source": [
    "df = pd.read_csv('../data/processed_data.csv')"
   ]
  },
  {
   "cell_type": "code",
   "execution_count": 3,
   "metadata": {},
   "outputs": [
    {
     "data": {
      "text/html": [
       "<div>\n",
       "<style scoped>\n",
       "    .dataframe tbody tr th:only-of-type {\n",
       "        vertical-align: middle;\n",
       "    }\n",
       "\n",
       "    .dataframe tbody tr th {\n",
       "        vertical-align: top;\n",
       "    }\n",
       "\n",
       "    .dataframe thead th {\n",
       "        text-align: right;\n",
       "    }\n",
       "</style>\n",
       "<table border=\"1\" class=\"dataframe\">\n",
       "  <thead>\n",
       "    <tr style=\"text-align: right;\">\n",
       "      <th></th>\n",
       "      <th>slashRatio</th>\n",
       "      <th>pathLength</th>\n",
       "      <th>hostnameLength</th>\n",
       "      <th>hyphenRatio</th>\n",
       "      <th>specialcaractersRatio</th>\n",
       "      <th>nb_slash</th>\n",
       "      <th>nb_specialcaracters</th>\n",
       "      <th>nb_hyphen</th>\n",
       "      <th>nb_letters</th>\n",
       "      <th>numbersToLettersRatio</th>\n",
       "      <th>...</th>\n",
       "      <th>bayesProba</th>\n",
       "      <th>numbersRatio</th>\n",
       "      <th>nb_numbers</th>\n",
       "      <th>label</th>\n",
       "      <th>pathLengthRatio</th>\n",
       "      <th>urlEntropy</th>\n",
       "      <th>dotRatio</th>\n",
       "      <th>hostnameLengthRatio</th>\n",
       "      <th>length</th>\n",
       "      <th>nb_dot</th>\n",
       "    </tr>\n",
       "  </thead>\n",
       "  <tbody>\n",
       "    <tr>\n",
       "      <th>0</th>\n",
       "      <td>0.799800</td>\n",
       "      <td>0.491491</td>\n",
       "      <td>0.725225</td>\n",
       "      <td>0.726727</td>\n",
       "      <td>0.983984</td>\n",
       "      <td>0.821822</td>\n",
       "      <td>0.902903</td>\n",
       "      <td>0.727728</td>\n",
       "      <td>0.503003</td>\n",
       "      <td>0.711211</td>\n",
       "      <td>...</td>\n",
       "      <td>0.759786</td>\n",
       "      <td>0.685185</td>\n",
       "      <td>0.688689</td>\n",
       "      <td>1</td>\n",
       "      <td>0.400723</td>\n",
       "      <td>0.844238</td>\n",
       "      <td>0.114114</td>\n",
       "      <td>0.506006</td>\n",
       "      <td>0.624625</td>\n",
       "      <td>0.172673</td>\n",
       "    </tr>\n",
       "    <tr>\n",
       "      <th>1</th>\n",
       "      <td>0.305806</td>\n",
       "      <td>0.347347</td>\n",
       "      <td>0.590090</td>\n",
       "      <td>0.000000</td>\n",
       "      <td>0.599099</td>\n",
       "      <td>0.215215</td>\n",
       "      <td>0.294795</td>\n",
       "      <td>0.000000</td>\n",
       "      <td>0.171672</td>\n",
       "      <td>0.871872</td>\n",
       "      <td>...</td>\n",
       "      <td>0.395702</td>\n",
       "      <td>0.870370</td>\n",
       "      <td>0.738238</td>\n",
       "      <td>0</td>\n",
       "      <td>0.362362</td>\n",
       "      <td>0.507508</td>\n",
       "      <td>0.325325</td>\n",
       "      <td>0.719219</td>\n",
       "      <td>0.240741</td>\n",
       "      <td>0.172673</td>\n",
       "    </tr>\n",
       "    <tr>\n",
       "      <th>2</th>\n",
       "      <td>0.423423</td>\n",
       "      <td>0.810310</td>\n",
       "      <td>0.590090</td>\n",
       "      <td>0.000000</td>\n",
       "      <td>0.551051</td>\n",
       "      <td>0.643644</td>\n",
       "      <td>0.797297</td>\n",
       "      <td>0.000000</td>\n",
       "      <td>0.833333</td>\n",
       "      <td>0.000000</td>\n",
       "      <td>...</td>\n",
       "      <td>0.830645</td>\n",
       "      <td>0.000000</td>\n",
       "      <td>0.000000</td>\n",
       "      <td>1</td>\n",
       "      <td>0.771772</td>\n",
       "      <td>0.738287</td>\n",
       "      <td>0.912240</td>\n",
       "      <td>0.260260</td>\n",
       "      <td>0.793293</td>\n",
       "      <td>0.981481</td>\n",
       "    </tr>\n",
       "    <tr>\n",
       "      <th>3</th>\n",
       "      <td>0.000000</td>\n",
       "      <td>0.000000</td>\n",
       "      <td>0.845345</td>\n",
       "      <td>0.827327</td>\n",
       "      <td>0.329329</td>\n",
       "      <td>0.000000</td>\n",
       "      <td>0.192192</td>\n",
       "      <td>0.727728</td>\n",
       "      <td>0.199199</td>\n",
       "      <td>0.806807</td>\n",
       "      <td>...</td>\n",
       "      <td>0.687105</td>\n",
       "      <td>0.815816</td>\n",
       "      <td>0.688689</td>\n",
       "      <td>1</td>\n",
       "      <td>0.000000</td>\n",
       "      <td>0.169169</td>\n",
       "      <td>0.819820</td>\n",
       "      <td>1.000000</td>\n",
       "      <td>0.216717</td>\n",
       "      <td>0.550551</td>\n",
       "    </tr>\n",
       "    <tr>\n",
       "      <th>4</th>\n",
       "      <td>0.229730</td>\n",
       "      <td>0.507508</td>\n",
       "      <td>0.324324</td>\n",
       "      <td>0.000000</td>\n",
       "      <td>0.157658</td>\n",
       "      <td>0.215215</td>\n",
       "      <td>0.192192</td>\n",
       "      <td>0.000000</td>\n",
       "      <td>0.453453</td>\n",
       "      <td>0.000000</td>\n",
       "      <td>...</td>\n",
       "      <td>0.459459</td>\n",
       "      <td>0.000000</td>\n",
       "      <td>0.000000</td>\n",
       "      <td>0</td>\n",
       "      <td>0.573073</td>\n",
       "      <td>0.411555</td>\n",
       "      <td>0.646146</td>\n",
       "      <td>0.472472</td>\n",
       "      <td>0.392392</td>\n",
       "      <td>0.550551</td>\n",
       "    </tr>\n",
       "  </tbody>\n",
       "</table>\n",
       "<p>5 rows × 21 columns</p>\n",
       "</div>"
      ],
      "text/plain": [
       "   slashRatio  pathLength  hostnameLength  hyphenRatio  specialcaractersRatio  \\\n",
       "0    0.799800    0.491491        0.725225     0.726727               0.983984   \n",
       "1    0.305806    0.347347        0.590090     0.000000               0.599099   \n",
       "2    0.423423    0.810310        0.590090     0.000000               0.551051   \n",
       "3    0.000000    0.000000        0.845345     0.827327               0.329329   \n",
       "4    0.229730    0.507508        0.324324     0.000000               0.157658   \n",
       "\n",
       "   nb_slash  nb_specialcaracters  nb_hyphen  nb_letters  \\\n",
       "0  0.821822             0.902903   0.727728    0.503003   \n",
       "1  0.215215             0.294795   0.000000    0.171672   \n",
       "2  0.643644             0.797297   0.000000    0.833333   \n",
       "3  0.000000             0.192192   0.727728    0.199199   \n",
       "4  0.215215             0.192192   0.000000    0.453453   \n",
       "\n",
       "   numbersToLettersRatio  ...  bayesProba  numbersRatio  nb_numbers  label  \\\n",
       "0               0.711211  ...    0.759786      0.685185    0.688689      1   \n",
       "1               0.871872  ...    0.395702      0.870370    0.738238      0   \n",
       "2               0.000000  ...    0.830645      0.000000    0.000000      1   \n",
       "3               0.806807  ...    0.687105      0.815816    0.688689      1   \n",
       "4               0.000000  ...    0.459459      0.000000    0.000000      0   \n",
       "\n",
       "   pathLengthRatio  urlEntropy  dotRatio  hostnameLengthRatio    length  \\\n",
       "0         0.400723    0.844238  0.114114             0.506006  0.624625   \n",
       "1         0.362362    0.507508  0.325325             0.719219  0.240741   \n",
       "2         0.771772    0.738287  0.912240             0.260260  0.793293   \n",
       "3         0.000000    0.169169  0.819820             1.000000  0.216717   \n",
       "4         0.573073    0.411555  0.646146             0.472472  0.392392   \n",
       "\n",
       "     nb_dot  \n",
       "0  0.172673  \n",
       "1  0.172673  \n",
       "2  0.981481  \n",
       "3  0.550551  \n",
       "4  0.550551  \n",
       "\n",
       "[5 rows x 21 columns]"
      ]
     },
     "execution_count": 3,
     "metadata": {},
     "output_type": "execute_result"
    }
   ],
   "source": [
    "df.head()"
   ]
  },
  {
   "cell_type": "code",
   "execution_count": null,
   "metadata": {},
   "outputs": [
    {
     "name": "stdout",
     "output_type": "stream",
     "text": [
      "Train: 80%\n",
      "Test: 20%\n"
     ]
    }
   ],
   "source": [
    "# 'label' is the target column\n",
    "cols = [\n",
    "                'hyphenRatio',\n",
    "                'nb_dot',\n",
    "                'length',\n",
    "                'pathLengthRatio',\n",
    "                'urlEntropy',\n",
    "                'slashRatio',\n",
    "                'numbersToLettersRatio',\n",
    "                'numbersRatio',\n",
    "                'hostnameLength',\n",
    "                'nb_specialcaracters',\n",
    "                'nb_hyphen',\n",
    "                'bayesProba',\n",
    "                'dotRatio',\n",
    "                'nb_letters',\n",
    "                'nb_slash',\n",
    "                'lettersRatio',\n",
    "                'specialcaractersRatio',\n",
    "                'hostnameLengthRatio',\n",
    "                'nb_numbers',\n",
    "                'pathLength'\n",
    "        ]\n",
    "\n",
    "X_train, X_test, y_train, y_test = train_test_split(df[cols], df['label'], test_size=0.2, random_state=42)\n",
    "\n",
    "print(f\"Train: {round(len(X_train)/len(df)*100)}%\\nTest: {round(len(X_test)/len(df)*100)}%\")"
   ]
  },
  {
   "cell_type": "markdown",
   "metadata": {},
   "source": [
    "# Train"
   ]
  },
  {
   "cell_type": "code",
   "execution_count": 5,
   "metadata": {},
   "outputs": [],
   "source": [
    "#Train the Random Forest model\n",
    "rf_model = RandomForestClassifier(random_state=42)"
   ]
  },
  {
   "cell_type": "code",
   "execution_count": 6,
   "metadata": {},
   "outputs": [],
   "source": [
    "# Define the parameter distributions for RandomizedSearchCV\n",
    "param_dist = {\n",
    "    'n_estimators': [100, 200, 300, 500],          # Number of trees\n",
    "    'max_depth': list(range(2,20)),               # Maximum depth of trees\n",
    "    'min_samples_split': list(range(2,20)),       # Minimum samples required to split an internal node\n",
    "    'min_samples_leaf': list(range(1,20)),        # Minimum samples required to be a leaf node\n",
    "    'max_features': uniform(0.1, 0.9)         # Fraction of features to consider for splitting\n",
    "}"
   ]
  },
  {
   "cell_type": "code",
   "execution_count": 7,
   "metadata": {},
   "outputs": [],
   "source": [
    "# Set up RandomizedSearchCV\n",
    "random_search = RandomizedSearchCV(\n",
    "    estimator=rf_model,\n",
    "    param_distributions=param_dist,\n",
    "    n_iter=3,  # Number of parameter combinations to try\n",
    "    scoring='accuracy',  # Use accuracy for evaluation\n",
    "    cv=3,  # 3-fold cross-validation\n",
    "    verbose=2,\n",
    "    random_state=42,\n",
    "    n_jobs=-1  # Use all available cores\n",
    ")"
   ]
  },
  {
   "cell_type": "code",
   "execution_count": null,
   "metadata": {},
   "outputs": [
    {
     "name": "stdout",
     "output_type": "stream",
     "text": [
      "Fitting 3 folds for each of 3 candidates, totalling 9 fits\n"
     ]
    }
   ],
   "source": [
    "# Perform the random search\n",
    "random_search.fit(X_train, y_train)\n",
    "\n",
    "# Best parameters and model evaluation\n",
    "print(\"Best parameters found: \", random_search.best_params_)\n",
    "best_model = random_search.best_estimator_"
   ]
  },
  {
   "cell_type": "markdown",
   "metadata": {},
   "source": [
    "# Test"
   ]
  },
  {
   "cell_type": "code",
   "execution_count": null,
   "metadata": {},
   "outputs": [
    {
     "name": "stdout",
     "output_type": "stream",
     "text": [
      "Test Accuracy: 0.9901220533684336\n",
      "Test Classification Report:\n",
      "               precision    recall  f1-score   support\n",
      "\n",
      "           0       0.99      0.99      0.99     89157\n",
      "           1       0.99      0.99      0.99     77983\n",
      "\n",
      "    accuracy                           0.99    167140\n",
      "   macro avg       0.99      0.99      0.99    167140\n",
      "weighted avg       0.99      0.99      0.99    167140\n",
      "\n",
      "Test Confusion Matrix:\n",
      " [[88389   768]\n",
      " [  883 77100]]\n"
     ]
    }
   ],
   "source": [
    "# Test the model on the test set\n",
    "y_test_pred = best_model.predict(X_test)\n",
    "test_accuracy = accuracy_score(y_test, y_test_pred)\n",
    "print(\"Test Accuracy:\", test_accuracy)\n",
    "print(\"Test Classification Report:\\n\", classification_report(y_test, y_test_pred))\n",
    "print(\"Test Confusion Matrix:\\n\", confusion_matrix(y_test, y_test_pred))"
   ]
  },
  {
   "cell_type": "markdown",
   "metadata": {},
   "source": [
    "# Features Importance"
   ]
  },
  {
   "cell_type": "code",
   "execution_count": null,
   "metadata": {},
   "outputs": [
    {
     "data": {
      "image/png": "[encoded data removed]",
      "text/plain": [
       "<Figure size 800x400 with 1 Axes>"
      ]
     },
     "metadata": {},
     "output_type": "display_data"
    }
   ],
   "source": [
    "# Create a bar plot for feature importance\n",
    "plt.figure(figsize=(8, 4))\n",
    "plt.barh(rf_model.feature_names_in_, rf_model.feature_importances_, color='skyblue')\n",
    "plt.xlabel('Mean Decrease Accuracy')\n",
    "plt.title('Feature Importance - Mean Decrease Accuracy')\n",
    "plt.gca().invert_yaxis() \n",
    "plt.xscale('log')\n",
    "plt.show()"
   ]
  },
  {
   "cell_type": "code",
   "execution_count": null,
   "metadata": {},
   "outputs": [
    {
     "data": {
      "text/plain": [
       "['../models_saved/random_forest.joblib']"
      ]
     },
     "execution_count": 18,
     "metadata": {},
     "output_type": "execute_result"
    }
   ],
   "source": [
    "joblib.dump(rf_model,'../models_saved/random_forest.joblib')"
   ]
  }
 ],
 "metadata": {
  "kernelspec": {
   "display_name": "Python 3",
   "language": "python",
   "name": "python3"
  },
  "language_info": {
   "codemirror_mode": {
    "name": "ipython",
    "version": 3
   },
   "file_extension": ".py",
   "mimetype": "text/x-python",
   "name": "python",
   "nbconvert_exporter": "python",
   "pygments_lexer": "ipython3",
   "version": "3.9.13"
  }
 },
 "nbformat": 4,
 "nbformat_minor": 2
}
